{
  "nbformat": 4,
  "nbformat_minor": 0,
  "metadata": {
    "colab": {
      "provenance": [],
      "authorship_tag": "ABX9TyNR1f4oBsnWQ84KdRCdKK9m",
      "include_colab_link": true
    },
    "kernelspec": {
      "name": "python3",
      "display_name": "Python 3"
    },
    "language_info": {
      "name": "python"
    }
  },
  "cells": [
    {
      "cell_type": "markdown",
      "metadata": {
        "id": "view-in-github",
        "colab_type": "text"
      },
      "source": [
        "<a href=\"https://colab.research.google.com/github/NikKon01/Univercity/blob/master/Methods_1.ipynb\" target=\"_parent\"><img src=\"https://colab.research.google.com/assets/colab-badge.svg\" alt=\"Open In Colab\"/></a>"
      ]
    },
    {
      "cell_type": "code",
      "execution_count": 11,
      "metadata": {
        "colab": {
          "base_uri": "https://localhost:8080/"
        },
        "id": "u9HacMv-bZdc",
        "outputId": "99a327d6-09dc-4c68-c12a-0c94f9133cfc"
      },
      "outputs": [
        {
          "output_type": "execute_result",
          "data": {
            "text/plain": [
              "True"
            ]
          },
          "metadata": {},
          "execution_count": 11
        }
      ],
      "source": [
        "import numpy as np\n",
        "import cv2\n",
        "# чтение изображения\n",
        "img_src = cv2.imread('5.JPG') # вместо 'sample.jpg' введите имя вашего растра\n",
        "# подготовка фильтра в виде матрицы 5х5\n",
        "kernel = np.array([[1, 1, 1, 1, 1],\n",
        " [1, 1, 1, 1, 1],\n",
        " [1, 1, 1, 1, 1],\n",
        " [1, 1, 1, 1, 1],\n",
        " [1, 1, 1, 1, 1]])\n",
        "kernel = kernel/(np.sum(kernel) if np.sum(kernel)!=0 else 1) # нормализация ядра\n",
        "#фильтрация исходного изображения\n",
        "img_rst = cv2.filter2D(img_src,-1,kernel)\n",
        "#сохранение конечного изображения\n",
        "cv2.imwrite('result.jpg',img_rst)"
      ]
    },
    {
      "cell_type": "code",
      "source": [
        "import numpy as np\n",
        "import cv2\n",
        "# чтение изображения\n",
        "img_src = cv2.imread('5.JPG')\n",
        "# подготовка фильтра в виде матрицы 3х3\n",
        "kernel = np.array([[0.0, -1.0, 0.0],\n",
        " [-1.0, 4.0, -1.0],\n",
        " [0.0, -1.0, 0.0]])\n",
        "kernel = kernel/(np.sum(kernel) if np.sum(kernel)!=0 else 1)\n",
        "#фильтрация исходного изображения\n",
        "img_rst = cv2.filter2D(img_src,-1,kernel)\n",
        "#сохранение конечного изображения\n",
        "cv2.imwrite('result10.jpg',img_rst)"
      ],
      "metadata": {
        "id": "kXLQ5FwXjXZH"
      },
      "execution_count": null,
      "outputs": []
    },
    {
      "cell_type": "code",
      "source": [
        "import numpy as np\n",
        "import cv2\n",
        "# чтение изображения\n",
        "img_src = cv2.imread('5.JPG') # вместо 'sample.jpg' введите имя вашего растра\n",
        "# подготовка фильтра в виде матрицы 5х5\n",
        "kernel = np.array([[1, 1, 1, 1, 1],\n",
        " [1, 1, 1, 1, 1],\n",
        " [1, 1, 1, 1, 1],\n",
        " [1, 1, 1, 1, 1],\n",
        " [1, 1, 1, 1, 1]])\n",
        "kernel = kernel/(np.sum(kernel) if np.sum(kernel)!=0 else 1) # нормализация ядра\n",
        "#фильтрация исходного изображения\n",
        "img_rst = cv2.filter2D(img_src,-1,kernel)\n",
        "\n",
        "\n",
        "Hori = np.concatenate((img_src, img_rst), axis=1) # Создаём новое изображение, используя конкатинацию массивов numpy\n",
        "\n",
        "cv2_imshow(Hori) # Выводим изображение"
      ],
      "metadata": {
        "id": "TyhCnV83i3PW"
      },
      "execution_count": null,
      "outputs": []
    }
  ]
}